{
 "cells": [
  {
   "cell_type": "code",
   "execution_count": 7,
   "metadata": {},
   "outputs": [],
   "source": [
    "# load dataset and split train/test\n",
    "from sklearn.datasets import load_wine\n",
    "\n",
    "wine = load_wine()\n",
    "x=wine.data\n",
    "y=wine.target\n"
   ]
  },
  {
   "cell_type": "code",
   "execution_count": 8,
   "metadata": {},
   "outputs": [],
   "source": [
    "from sklearn.model_selection import train_test_split\n",
    "\n",
    "x_train, x_test, y_train, y_test = train_test_split(x,y, test_size = 0.25, random_state=2) "
   ]
  },
  {
   "cell_type": "code",
   "execution_count": 9,
   "metadata": {},
   "outputs": [],
   "source": [
    "from sklearn.preprocessing import StandardScaler\n",
    "\n",
    "ss = StandardScaler()\n",
    "x_train_scaled = ss.fit_transform(x_train)\n",
    "x_test_scaled = ss.transform(x_test)"
   ]
  },
  {
   "cell_type": "code",
   "execution_count": 10,
   "metadata": {},
   "outputs": [
    {
     "name": "stdout",
     "output_type": "stream",
     "text": [
      "Best score on cross-validation: 0.909890\n",
      "Best parametersC: gini\n",
      "Best parametersD: 3\n"
     ]
    }
   ],
   "source": [
    "from sklearn.tree import DecisionTreeClassifier\n",
    "from sklearn.model_selection import cross_val_score\n",
    "from sklearn.model_selection import KFold\n",
    "\n",
    "best_score=0\n",
    "for criterion in ['gini','entropy' ]:\n",
    "    for max_depth in [2,3,4,5,6,7,8,9,10]:\n",
    "        tree_giniIndex = DecisionTreeClassifier(criterion = criterion, max_depth=max_depth)\n",
    "        kfold = KFold(n_splits=10, shuffle = True, random_state=2)\n",
    "        fold_accuracies = cross_val_score(tree_giniIndex, x_train_scaled, y_train,cv=kfold)\n",
    "        score = fold_accuracies.mean()\n",
    "        if score > best_score:\n",
    "            best_paramC = criterion\n",
    "            best_paramD = max_depth\n",
    "            best_score = score\n",
    "\n",
    "print(\"Best score on cross-validation: {:2f}\".format(best_score))\n",
    "print(\"Best parametersC: {}\".format(best_paramC))\n",
    "print(\"Best parametersD: {}\".format(best_paramD))"
   ]
  },
  {
   "cell_type": "code",
   "execution_count": 12,
   "metadata": {},
   "outputs": [
    {
     "name": "stdout",
     "output_type": "stream",
     "text": [
      "Test set score: 0.955556\n"
     ]
    }
   ],
   "source": [
    "tree_giniIndex = DecisionTreeClassifier(criterion='gini', max_depth=3)\n",
    "tree_giniIndex.fit(x_train_scaled, y_train)\n",
    "test_score = tree_giniIndex.score(x_test_scaled, y_test)\n",
    "print(\"Test set score: {:2f}\".format(test_score))"
   ]
  },
  {
   "cell_type": "code",
   "execution_count": 14,
   "metadata": {},
   "outputs": [
    {
     "name": "stdout",
     "output_type": "stream",
     "text": [
      "Best score on cross-validation: 0.977473\n",
      "Best parametersP: 1\n",
      "Best parametersK: 1\n"
     ]
    }
   ],
   "source": [
    "from sklearn.neighbors import KNeighborsClassifier\n",
    "from sklearn.model_selection import cross_val_score\n",
    "from sklearn.model_selection import KFold\n",
    "\n",
    "best_score=0\n",
    "for curPvalue in [1,2]:\n",
    "    neighbor_settings = range(1,11)\n",
    "    for curKvalue in neighbor_settings:\n",
    "        clf = KNeighborsClassifier(n_neighbors = curKvalue, p=curPvalue, metric='minkowski')\n",
    "        kfold = KFold(n_splits=10, shuffle = True, random_state=2)\n",
    "        fold_accuracies = cross_val_score(clf, x_train_scaled, y_train,cv=kfold)\n",
    "        score = fold_accuracies.mean()\n",
    "        if score > best_score:\n",
    "            best_paramP = curPvalue\n",
    "            best_paramK = curKvalue\n",
    "            best_score = score\n",
    "\n",
    "print(\"Best score on cross-validation: {:2f}\".format(best_score))\n",
    "print(\"Best parametersP: {}\".format(best_paramP))\n",
    "print(\"Best parametersK: {}\".format(best_paramK))"
   ]
  },
  {
   "cell_type": "code",
   "execution_count": 18,
   "metadata": {},
   "outputs": [
    {
     "name": "stdout",
     "output_type": "stream",
     "text": [
      "Test set score: 0.977778\n"
     ]
    }
   ],
   "source": [
    "clf = KNeighborsClassifier(p=1, n_neighbors=1)\n",
    "clf.fit(x_train_scaled, y_train)\n",
    "test_score = clf.score(x_test_scaled, y_test)\n",
    "print(\"Test set score: {:2f}\".format(test_score))"
   ]
  },
  {
   "cell_type": "code",
   "execution_count": 16,
   "metadata": {},
   "outputs": [
    {
     "name": "stdout",
     "output_type": "stream",
     "text": [
      "Best score on cross-validation: 0.947253\n",
      "Best parametersD: 3\n",
      "Best parametersC: 1\n",
      "Best parametersG: 0.15384615384615385\n"
     ]
    }
   ],
   "source": [
    "from sklearn.svm import SVC\n",
    "from sklearn.model_selection import cross_val_score\n",
    "from sklearn.model_selection import KFold\n",
    "\n",
    "best_score=0\n",
    "for degree in [2,3,4]:\n",
    "    for curC in [1, 2,3,4,5,8,10]:\n",
    "        for gamma in [1/13, 2/13, 3/13, 4/13]:\n",
    "            svm = SVC(kernel = \"poly\", degree = degree, C=curC, gamma = gamma)\n",
    "            kfold = KFold(n_splits=10, shuffle = True, random_state=2)\n",
    "            fold_accuracies = cross_val_score(svm, x_train_scaled, y_train,cv=kfold)\n",
    "            score = fold_accuracies.mean()\n",
    "            if score > best_score:\n",
    "                best_paramD = degree\n",
    "                best_paramC = curC\n",
    "                best_paramG = gamma\n",
    "                best_score = score\n",
    "\n",
    "print(\"Best score on cross-validation: {:2f}\".format(best_score))\n",
    "print(\"Best parametersD: {}\".format(best_paramD))\n",
    "print(\"Best parametersC: {}\".format(best_paramC))\n",
    "print(\"Best parametersG: {}\".format(best_paramG))"
   ]
  },
  {
   "cell_type": "code",
   "execution_count": 19,
   "metadata": {},
   "outputs": [
    {
     "name": "stdout",
     "output_type": "stream",
     "text": [
      "Test set score: 0.955556\n"
     ]
    }
   ],
   "source": [
    "svm = SVC(degree= 3, C=1, gamma=2/13)\n",
    "svm.fit(x_train_scaled, y_train)\n",
    "test_score = svm.score(x_test_scaled, y_test)\n",
    "print(\"Test set score: {:2f}\".format(test_score))"
   ]
  },
  {
   "cell_type": "code",
   "execution_count": 43,
   "metadata": {},
   "outputs": [
    {
     "name": "stdout",
     "output_type": "stream",
     "text": [
      "Test set score: 0.977778\n"
     ]
    }
   ],
   "source": [
    "from sklearn.naive_bayes import GaussianNB\n",
    "\n",
    "gaussian_model = GaussianNB()\n",
    "gaussian_model.fit(x_train_scaled, y_train)\n",
    "test_score =gaussian_model.score(x_test_scaled, y_test)\n",
    "print(\"Test set score: {:2f}\".format(test_score))"
   ]
  },
  {
   "cell_type": "code",
   "execution_count": 33,
   "metadata": {},
   "outputs": [
    {
     "name": "stdout",
     "output_type": "stream",
     "text": [
      "0.9555555555555556\n",
      "0.9649122807017544\n",
      "0.9555555555555556\n"
     ]
    }
   ],
   "source": [
    "from sklearn.metrics import accuracy_score\n",
    "from sklearn.metrics import precision_score\n",
    "from sklearn.metrics import recall_score\n",
    "\n",
    "y_predicted_tree = tree_giniIndex.predict(x_test_scaled)\n",
    "print(accuracy_score(y_predicted_tree, y_test))\n",
    "print(precision_score(y_predicted_tree, y_test, average='macro'))\n",
    "print(recall_score(y_predicted_tree, y_test, average='macro'))\n"
   ]
  },
  {
   "cell_type": "code",
   "execution_count": 34,
   "metadata": {},
   "outputs": [
    {
     "data": {
      "text/plain": [
       "Text(91.68, 0.5, 'predicted label')"
      ]
     },
     "execution_count": 34,
     "metadata": {},
     "output_type": "execute_result"
    },
    {
     "data": {
      "image/png": "[encoded data removed]",
      "text/plain": [
       "<Figure size 432x288 with 1 Axes>"
      ]
     },
     "metadata": {
      "needs_background": "light"
     },
     "output_type": "display_data"
    }
   ],
   "source": [
    "from sklearn.metrics import confusion_matrix\n",
    "import seaborn as sns\n",
    "import matplotlib.pyplot as plt\n",
    "\n",
    "mat = confusion_matrix(y_predicted_tree, y_test)\n",
    "sns.heatmap(mat.T, square=True, annot = True, fmt='d', cbar=False)\n",
    "plt.xlabel('true label')\n",
    "plt.ylabel('predicted label')"
   ]
  },
  {
   "cell_type": "code",
   "execution_count": 35,
   "metadata": {},
   "outputs": [
    {
     "name": "stdout",
     "output_type": "stream",
     "text": [
      "0.9777777777777777\n",
      "0.9743589743589745\n",
      "0.9833333333333334\n"
     ]
    }
   ],
   "source": [
    "y_predicted_knn = clf.predict(x_test_scaled)\n",
    "print(accuracy_score(y_predicted_knn, y_test))\n",
    "print(precision_score(y_predicted_knn, y_test, average='macro'))\n",
    "print(recall_score(y_predicted_knn, y_test, average='macro'))\n"
   ]
  },
  {
   "cell_type": "code",
   "execution_count": 37,
   "metadata": {},
   "outputs": [
    {
     "data": {
      "text/plain": [
       "Text(91.68, 0.5, 'predicted label')"
      ]
     },
     "execution_count": 37,
     "metadata": {},
     "output_type": "execute_result"
    },
    {
     "data": {
      "image/png": "[encoded data removed]",
      "text/plain": [
       "<Figure size 432x288 with 1 Axes>"
      ]
     },
     "metadata": {
      "needs_background": "light"
     },
     "output_type": "display_data"
    }
   ],
   "source": [
    "mat = confusion_matrix(y_predicted_knn, y_test)\n",
    "sns.heatmap(mat.T, square=True, annot = True, fmt='d', cbar=False)\n",
    "plt.xlabel('true label')\n",
    "plt.ylabel('predicted label')"
   ]
  },
  {
   "cell_type": "code",
   "execution_count": 38,
   "metadata": {},
   "outputs": [
    {
     "name": "stdout",
     "output_type": "stream",
     "text": [
      "0.9555555555555556\n",
      "0.9568151147098515\n",
      "0.9555555555555556\n"
     ]
    }
   ],
   "source": [
    "y_predicted_svm = svm.predict(x_test_scaled)\n",
    "print(accuracy_score(y_predicted_svm, y_test))\n",
    "print(precision_score(y_predicted_svm, y_test, average='macro'))\n",
    "print(recall_score(y_predicted_svm, y_test, average='macro'))\n"
   ]
  },
  {
   "cell_type": "code",
   "execution_count": 39,
   "metadata": {},
   "outputs": [
    {
     "data": {
      "text/plain": [
       "Text(91.68, 0.5, 'predicted label')"
      ]
     },
     "execution_count": 39,
     "metadata": {},
     "output_type": "execute_result"
    },
    {
     "data": {
      "image/png": "[encoded data removed]",
      "text/plain": [
       "<Figure size 432x288 with 1 Axes>"
      ]
     },
     "metadata": {
      "needs_background": "light"
     },
     "output_type": "display_data"
    }
   ],
   "source": [
    "mat = confusion_matrix(y_predicted_svm, y_test)\n",
    "sns.heatmap(mat.T, square=True, annot = True, fmt='d', cbar=False)\n",
    "plt.xlabel('true label')\n",
    "plt.ylabel('predicted label')"
   ]
  },
  {
   "cell_type": "code",
   "execution_count": 40,
   "metadata": {},
   "outputs": [
    {
     "name": "stdout",
     "output_type": "stream",
     "text": [
      "0.9777777777777777\n",
      "0.9824561403508771\n",
      "0.9761904761904763\n"
     ]
    }
   ],
   "source": [
    "y_predictedNB = gaussian_model.predict(x_test_scaled)\n",
    "print(accuracy_score(y_predictedNB, y_test))\n",
    "print(precision_score(y_predictedNB, y_test, average='macro'))\n",
    "print(recall_score(y_predictedNB, y_test, average='macro'))\n"
   ]
  },
  {
   "cell_type": "code",
   "execution_count": 42,
   "metadata": {},
   "outputs": [
    {
     "data": {
      "text/plain": [
       "Text(91.68, 0.5, 'predicted label')"
      ]
     },
     "execution_count": 42,
     "metadata": {},
     "output_type": "execute_result"
    },
    {
     "data": {
      "image/png": "[encoded data removed]",
      "text/plain": [
       "<Figure size 432x288 with 1 Axes>"
      ]
     },
     "metadata": {
      "needs_background": "light"
     },
     "output_type": "display_data"
    }
   ],
   "source": [
    "mat = confusion_matrix(y_predictedNB, y_test)\n",
    "sns.heatmap(mat.T, square=True, annot = True, fmt='d', cbar=False)\n",
    "plt.xlabel('true label')\n",
    "plt.ylabel('predicted label')"
   ]
  },
  {
   "cell_type": "code",
   "execution_count": null,
   "metadata": {},
   "outputs": [],
   "source": []
  }
 ],
 "metadata": {
  "kernelspec": {
   "display_name": "Python 3",
   "language": "python",
   "name": "python3"
  },
  "language_info": {
   "codemirror_mode": {
    "name": "ipython",
    "version": 3
   },
   "file_extension": ".py",
   "mimetype": "text/x-python",
   "name": "python",
   "nbconvert_exporter": "python",
   "pygments_lexer": "ipython3",
   "version": "3.7.1"
  }
 },
 "nbformat": 4,
 "nbformat_minor": 2
}
